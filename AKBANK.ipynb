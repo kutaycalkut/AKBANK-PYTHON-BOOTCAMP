{
  "nbformat": 4,
  "nbformat_minor": 0,
  "metadata": {
    "colab": {
      "provenance": []
    },
    "kernelspec": {
      "name": "python3",
      "display_name": "Python 3"
    },
    "language_info": {
      "name": "python"
    }
  },
  "cells": [
    {
      "cell_type": "code",
      "execution_count": 1,
      "metadata": {
        "colab": {
          "base_uri": "https://localhost:8080/"
        },
        "id": "NcqQjqWUX8iU",
        "outputId": "4f4412ad-a311-4b45-aae3-1378620534fe"
      },
      "outputs": [
        {
          "output_type": "stream",
          "name": "stdout",
          "text": [
            "İsminizi Giriniz: Kutay\n",
            "Adresinizi Giriniz: ASASASAS\n",
            "Telefon Numaranızı Giriniz: 0909090909\n",
            "Pizza tabanını seçiniz (Klasik, Margarita, TürkPizza, Sade Pizza): Klasik\n",
            "Pizza malzemelerini seçiniz (virgülle ayırınız/Zeytin,Mantarlar,Keçi Peyniri,Et,Soğan,Mısır): Zeytin\n",
            "Kredi Kartı Numaranızı Giriniz: 09090909\n",
            "Kredi Kartınızın Son Kullanım Tarihini Girinniz (AA/YY)? 09/09\n",
            "Kredi Kartınızın Güvenlik Kodunu Giriniz: 098\n",
            "Siparişiniz için teşekkür ederiz, Kutay! Hesabınız $12.\n"
          ]
        }
      ],
      "source": [
        "import datetime\n",
        "import csv\n",
        "\n",
        "# Pizza tabanları ve fiyatları\n",
        "pizza_bases = {\n",
        "    \"Klasik\": 10,\n",
        "    \"Margarita\": 12,\n",
        "    \"TürkPizza\": 14,\n",
        "    \"Sade Pizza\":16\n",
        "}\n",
        "\n",
        "# Pizza malzemeleri ve fiyatları\n",
        "pizza_toppings = {\n",
        "    \"Zeytin\": 2,\n",
        "    \"Mantarlar\": 1,\n",
        "    \"Keçi Peyniri\": 1,\n",
        "    \"Et\": 2,\n",
        "    \"Soğan\": 2,\n",
        "    \"Mısır\": 1\n",
        "}\n",
        "\n",
        "# Total hesabı hesaplayan fonksiyon\n",
        "def calculate_cost(bases, toppings):\n",
        "    cost = pizza_bases[bases]\n",
        "    for topping in toppings:\n",
        "        cost += pizza_toppings[topping]\n",
        "    return cost\n",
        "\n",
        "# Müşteri bilgileri için inputlar\n",
        "name = input(\"İsminizi Giriniz: \")\n",
        "address = input(\"Adresinizi Giriniz: \")\n",
        "phone = input(\"Telefon Numaranızı Giriniz: \")\n",
        "\n",
        "# Pizza için bilgiler\n",
        "bases = input(\"Pizza tabanını seçiniz (Klasik, Margarita, TürkPizza, Sade Pizza): \")\n",
        "toppings = input(\"Pizza malzemelerini seçiniz (virgülle ayırınız/Zeytin,Mantarlar,Keçi Peyniri,Et,Soğan,Mısır): \").split(\",\")\n",
        "\n",
        "# Pizzanın tutarını hesaplanması\n",
        "cost = calculate_cost(bases, toppings)\n",
        "\n",
        "# Kredi kartı bilgileri\n",
        "card_number = input(\"Kredi Kartı Numaranızı Giriniz: \")\n",
        "expiration_date = input(\"Kredi Kartınızın Son Kullanım Tarihini Girinniz (AA/YY)? \")\n",
        "security_code = input(\"Kredi Kartınızın Güvenlik Kodunu Giriniz: \")\n",
        "\n",
        "# Güncel zaman ve tarih bilgisi\n",
        "now = datetime.datetime.now()\n",
        "\n",
        "# Sipariş, müşteri, kredi kartı ve zaman bilgilerinin bir csv dosyasına kaydedilmesi\n",
        "with open(\"orders.csv\", \"a\") as file:\n",
        "    file.write(f\"{now.strftime('%Y-%m-%d %H:%M:%S')},{name},{address},{phone},{bases},{','.join(toppings)},{cost},{card_number},{expiration_date},{security_code}\\n\")\n",
        "\n",
        "print(f\"Siparişiniz için teşekkür ederiz, {name}! Hesabınız ${cost}.\")"
      ]
    }
  ]
}